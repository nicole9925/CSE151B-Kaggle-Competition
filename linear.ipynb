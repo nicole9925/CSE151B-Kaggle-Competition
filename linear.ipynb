{
 "cells": [
  {
   "cell_type": "code",
   "execution_count": 75,
   "metadata": {},
   "outputs": [],
   "source": [
    "import torch\n",
    "from torch.utils.data import Dataset, DataLoader\n",
    "import os, os.path \n",
    "import numpy \n",
    "import pickle\n",
    "from glob import glob\n",
    "import pandas as pd\n",
    "import numpy as np\n",
    "import matplotlib.pyplot as plt\n",
    "import torch.nn as nn\n",
    "from torch import optim\n",
    "import torch.nn.functional as F\n",
    "from torch.autograd import Variable\n",
    "from torch.utils.data import RandomSampler, random_split, SubsetRandomSampler, WeightedRandomSampler\n",
    "\n",
    "\"\"\"Change to the data folder\"\"\"\n",
    "new_path = \"./new_train/new_train\"\n",
    "val_path = \"./new_val_in/new_val_in\" \n",
    "# number of sequences in each dataset\n",
    "# train:205942  val:3200 test: 36272 \n",
    "# sequences sampled at 10HZ rate"
   ]
  },
  {
   "cell_type": "code",
   "execution_count": 2,
   "metadata": {},
   "outputs": [
    {
     "data": {
      "text/plain": [
       "True"
      ]
     },
     "execution_count": 2,
     "metadata": {},
     "output_type": "execute_result"
    }
   ],
   "source": [
    "torch.cuda.is_available()"
   ]
  },
  {
   "cell_type": "markdown",
   "metadata": {},
   "source": [
    "### Create a dataset class "
   ]
  },
  {
   "cell_type": "code",
   "execution_count": 80,
   "metadata": {},
   "outputs": [],
   "source": [
    "class ArgoverseDataset(Dataset):\n",
    "    \"\"\"Dataset class for Argoverse\"\"\"\n",
    "    def __init__(self, data_path: str, transform=None):\n",
    "        super(ArgoverseDataset, self).__init__()\n",
    "        self.data_path = data_path\n",
    "        self.transform = transform\n",
    "\n",
    "        self.pkl_list = glob(os.path.join(self.data_path, '*'))\n",
    "        self.pkl_list.sort()\n",
    "        \n",
    "    def __len__(self):\n",
    "        return len(self.pkl_list)\n",
    "\n",
    "    def __getitem__(self, idx):\n",
    "\n",
    "        pkl_path = self.pkl_list[idx]\n",
    "        with open(pkl_path, 'rb') as f:\n",
    "            data = pickle.load(f)\n",
    "            \n",
    "        if self.transform:\n",
    "            data = self.transform(data)\n",
    "\n",
    "        return data\n",
    "\n",
    "\n",
    "# intialize a dataset\n",
    "train_dataset  = ArgoverseDataset(data_path=new_path)"
   ]
  },
  {
   "cell_type": "markdown",
   "metadata": {},
   "source": [
    "### Create a loader to enable batch processing"
   ]
  },
  {
   "cell_type": "code",
   "execution_count": 81,
   "metadata": {},
   "outputs": [],
   "source": [
    "batch_sz = 32\n",
    "\n",
    "def my_collate(batch):\n",
    "    \"\"\" collate lists of samples into batches, create [ batch_sz x agent_sz x seq_len x feature] \"\"\"\n",
    "    inp = [numpy.dstack([scene['p_in'], scene['v_in']]) for scene in batch]\n",
    "    out = [numpy.dstack([scene['p_out'], scene['v_out']]) for scene in batch]\n",
    "    out = torch.LongTensor(out)\n",
    "    inp = torch.tensor(inp, dtype=torch.float)\n",
    "    out = torch.tensor(out, dtype=torch.float)\n",
    "    return [inp, out]\n",
    "\n",
    "train_dataset, val_dataset = random_split(train_dataset, (199078, 6864))\n",
    "\n",
    "sampler = RandomSampler(train_dataset, num_samples = 6000, replacement=True)\n",
    "# sampler = RandomSampler(train_dataset)\n",
    "\n",
    "train_loader = DataLoader(train_dataset,batch_size=batch_sz, shuffle = False, collate_fn=my_collate, num_workers=0, sampler = sampler, drop_last=True)\n",
    "val_loader = DataLoader(val_dataset,batch_size=batch_sz, shuffle = False, collate_fn=my_collate, num_workers=0, drop_last=True)\n"
   ]
  },
  {
   "cell_type": "code",
   "execution_count": 82,
   "metadata": {},
   "outputs": [],
   "source": [
    "class NN(nn.Module):\n",
    "    def __init__(self, input_size, output_size):\n",
    "        super(NN, self).__init__()\n",
    "        self.linear = torch.nn.Linear(input_size, output_size)\n",
    "\n",
    "    def forward(self, x):\n",
    "        out = self.linear(x)\n",
    "\n",
    "        return out\n",
    "    "
   ]
  },
  {
   "cell_type": "code",
   "execution_count": 83,
   "metadata": {},
   "outputs": [],
   "source": [
    "from tqdm.notebook import tqdm\n",
    "def train(model, device, train_loader, optimizer, epoch, log_interval=10000):\n",
    "    model.train()\n",
    "    iterator = tqdm(train_loader, total=int(len(train_loader)))\n",
    "    loss_ema = -1\n",
    "    for batch_idx, (data, target) in enumerate(iterator):\n",
    "        data, target = torch.reshape(data, (batch_sz, 60, -1)).to(device), torch.reshape(target[:,:,:,:2], (batch_sz, 60, -1)).to(device)\n",
    "        optimizer.zero_grad()\n",
    "        output = model(data)\n",
    "        loss = torch.sqrt(nn.MSELoss()(output, target))\n",
    "        loss.backward()\n",
    "        optimizer.step()\n",
    "        if loss_ema < 0:\n",
    "            loss_ema = loss.item()\n",
    "        loss_ema = loss_ema * 0.99 + loss.item()*0.01\n",
    "        iterator.set_postfix(loss=loss_ema)\n",
    "    return loss_ema"
   ]
  },
  {
   "cell_type": "code",
   "execution_count": 84,
   "metadata": {},
   "outputs": [],
   "source": [
    "def test(model, device, test_loader):\n",
    "    model.eval()\n",
    "    loss_ema = -1\n",
    "    with torch.no_grad():\n",
    "        for data, target in test_loader:\n",
    "            data, target = torch.reshape(data, (batch_sz, 60, -1)).to(device), torch.reshape(target[:,:,:,:2], (batch_sz, 60, -1)).to(device)\n",
    "            output = model(data)\n",
    "            loss = torch.sqrt(nn.MSELoss()(output, target))\n",
    "            if loss_ema < 0:\n",
    "                loss_ema = loss.item()\n",
    "            loss_ema = loss_ema * 0.99 + loss.item()*0.01\n",
    "    print(\"Test loss: {}\".format(loss_ema))"
   ]
  },
  {
   "cell_type": "code",
   "execution_count": 86,
   "metadata": {},
   "outputs": [],
   "source": [
    "input_dim = 76\n",
    "output_dim = 60  \n",
    "\n",
    "if torch.cuda.is_available():  \n",
    "    device = \"cuda:0\" \n",
    "else:  \n",
    "    device = \"cpu\"  \n",
    "    \n",
    "learning_rate = 0.0001\n",
    "momentum = 0.5"
   ]
  },
  {
   "cell_type": "code",
   "execution_count": 87,
   "metadata": {},
   "outputs": [
    {
     "data": {
      "application/vnd.jupyter.widget-view+json": {
       "model_id": "36bf0c64195047628076bd233583b424",
       "version_major": 2,
       "version_minor": 0
      },
      "text/plain": [
       "  0%|          | 0/187 [00:00<?, ?it/s]"
      ]
     },
     "metadata": {},
     "output_type": "display_data"
    },
    {
     "name": "stderr",
     "output_type": "stream",
     "text": [
      "<ipython-input-81-392220d32f10>:7: DeprecationWarning: an integer is required (got type numpy.float64).  Implicit conversion to integers using __int__ is deprecated, and may be removed in a future version of Python.\n",
      "  out = torch.LongTensor(out)\n",
      "<ipython-input-81-392220d32f10>:9: UserWarning: To copy construct from a tensor, it is recommended to use sourceTensor.clone().detach() or sourceTensor.clone().detach().requires_grad_(True), rather than torch.tensor(sourceTensor).\n",
      "  out = torch.tensor(out, dtype=torch.float)\n"
     ]
    },
    {
     "name": "stdout",
     "output_type": "stream",
     "text": [
      "Test loss: 11.467475410379167\n"
     ]
    },
    {
     "data": {
      "application/vnd.jupyter.widget-view+json": {
       "model_id": "3e721a2b194b41a4b722d9c7a53f8940",
       "version_major": 2,
       "version_minor": 0
      },
      "text/plain": [
       "  0%|          | 0/187 [00:00<?, ?it/s]"
      ]
     },
     "metadata": {},
     "output_type": "display_data"
    },
    {
     "name": "stdout",
     "output_type": "stream",
     "text": [
      "Test loss: 11.643122683268738\n"
     ]
    },
    {
     "data": {
      "application/vnd.jupyter.widget-view+json": {
       "model_id": "9e0c4c27981f43079f649f7ecaf5f3c9",
       "version_major": 2,
       "version_minor": 0
      },
      "text/plain": [
       "  0%|          | 0/187 [00:00<?, ?it/s]"
      ]
     },
     "metadata": {},
     "output_type": "display_data"
    },
    {
     "name": "stdout",
     "output_type": "stream",
     "text": [
      "Test loss: 12.849795994062607\n"
     ]
    },
    {
     "data": {
      "application/vnd.jupyter.widget-view+json": {
       "model_id": "112572ce53b24cb5a9f8509b86c973a2",
       "version_major": 2,
       "version_minor": 0
      },
      "text/plain": [
       "  0%|          | 0/187 [00:00<?, ?it/s]"
      ]
     },
     "metadata": {},
     "output_type": "display_data"
    },
    {
     "name": "stdout",
     "output_type": "stream",
     "text": [
      "Test loss: 9.428726448277734\n"
     ]
    },
    {
     "data": {
      "application/vnd.jupyter.widget-view+json": {
       "model_id": "214e8b430e824afc9a133c7f719c5086",
       "version_major": 2,
       "version_minor": 0
      },
      "text/plain": [
       "  0%|          | 0/187 [00:00<?, ?it/s]"
      ]
     },
     "metadata": {},
     "output_type": "display_data"
    },
    {
     "name": "stdout",
     "output_type": "stream",
     "text": [
      "Test loss: 14.176584561754273\n"
     ]
    },
    {
     "data": {
      "application/vnd.jupyter.widget-view+json": {
       "model_id": "36b88ddd15394f0faa9697158a6882cb",
       "version_major": 2,
       "version_minor": 0
      },
      "text/plain": [
       "  0%|          | 0/187 [00:00<?, ?it/s]"
      ]
     },
     "metadata": {},
     "output_type": "display_data"
    },
    {
     "name": "stdout",
     "output_type": "stream",
     "text": [
      "Test loss: 9.6620364615582\n"
     ]
    },
    {
     "data": {
      "application/vnd.jupyter.widget-view+json": {
       "model_id": "fdab1bd4f26146fdad07b7d32db5fa87",
       "version_major": 2,
       "version_minor": 0
      },
      "text/plain": [
       "  0%|          | 0/187 [00:00<?, ?it/s]"
      ]
     },
     "metadata": {},
     "output_type": "display_data"
    },
    {
     "name": "stdout",
     "output_type": "stream",
     "text": [
      "Test loss: 10.993848837909994\n"
     ]
    },
    {
     "data": {
      "application/vnd.jupyter.widget-view+json": {
       "model_id": "acb9e95e90084aa6849bcabff913471c",
       "version_major": 2,
       "version_minor": 0
      },
      "text/plain": [
       "  0%|          | 0/187 [00:00<?, ?it/s]"
      ]
     },
     "metadata": {},
     "output_type": "display_data"
    },
    {
     "name": "stdout",
     "output_type": "stream",
     "text": [
      "Test loss: 10.546199451775074\n"
     ]
    },
    {
     "data": {
      "application/vnd.jupyter.widget-view+json": {
       "model_id": "a1598e501beb4be39c0627d45df07ae5",
       "version_major": 2,
       "version_minor": 0
      },
      "text/plain": [
       "  0%|          | 0/187 [00:00<?, ?it/s]"
      ]
     },
     "metadata": {},
     "output_type": "display_data"
    },
    {
     "name": "stdout",
     "output_type": "stream",
     "text": [
      "Test loss: 13.996167126460541\n"
     ]
    },
    {
     "data": {
      "application/vnd.jupyter.widget-view+json": {
       "model_id": "5602b1af61dd468bb93709547b108d51",
       "version_major": 2,
       "version_minor": 0
      },
      "text/plain": [
       "  0%|          | 0/187 [00:00<?, ?it/s]"
      ]
     },
     "metadata": {},
     "output_type": "display_data"
    },
    {
     "name": "stdout",
     "output_type": "stream",
     "text": [
      "Test loss: 5.451176601592597\n"
     ]
    }
   ],
   "source": [
    "net = NN(input_dim, output_dim)\n",
    "model = net.to(device)\n",
    "optimizer = optim.SGD(model.parameters(), lr=learning_rate,\n",
    "                      momentum=momentum, weight_decay=1e-5)\n",
    "num_epoch = 10\n",
    "losses = []\n",
    "for epoch in range(1, num_epoch + 1):\n",
    "    loss = train(model, device, train_loader, optimizer, epoch)\n",
    "    losses.append(loss)\n",
    "    test(model, device, val_loader)\n",
    "    torch.save(model.state_dict(), 'checkpoints/train-epoch-linear-lower-learning{}.pth'.format(epoch + 1)) \n",
    "    \n",
    "with open(\"losses_test_linear-lower-learning.txt\", \"w\") as output:\n",
    "    output.write(str(losses))"
   ]
  },
  {
   "cell_type": "code",
   "execution_count": 88,
   "metadata": {},
   "outputs": [
    {
     "data": {
      "image/png": "[encoded data removed]",
      "text/plain": [
       "<Figure size 432x288 with 1 Axes>"
      ]
     },
     "metadata": {
      "needs_background": "light"
     },
     "output_type": "display_data"
    }
   ],
   "source": [
    "plt.plot(losses)\n",
    "plt.title(\"Training Loss\")\n",
    "plt.xlabel(\"Epoch\")\n",
    "plt.ylabel(\"Loss\")\n",
    "plt.savefig('eda_results/training_subset_linear-lower-learning.png')"
   ]
  },
  {
   "cell_type": "code",
   "execution_count": 90,
   "metadata": {},
   "outputs": [
    {
     "data": {
      "image/png": "[encoded data removed]",
      "text/plain": [
       "<Figure size 432x288 with 1 Axes>"
      ]
     },
     "metadata": {
      "needs_background": "light"
     },
     "output_type": "display_data"
    }
   ],
   "source": [
    "test_loss = [11, 11, 12, 9, 14, 9, 10, 10, 13, 5]\n",
    "\n",
    "plt.plot(test_loss)\n",
    "plt.title(\"Validation Loss\")\n",
    "plt.xlabel(\"Epoch\")\n",
    "plt.ylabel(\"Loss\")\n",
    "plt.savefig('eda_results/test_subset_linear-lower-learning.png')"
   ]
  },
  {
   "cell_type": "markdown",
   "metadata": {},
   "source": [
    "## Test and predict"
   ]
  },
  {
   "cell_type": "code",
   "execution_count": 91,
   "metadata": {},
   "outputs": [],
   "source": [
    "def load_checkpoint(filepath):\n",
    "    checkpoint = torch.load(filepath)\n",
    "    model = checkpoint['model']\n",
    "    model.load_state_dict(checkpoint['state_dict'])\n",
    "    for parameter in model.parameters():\n",
    "        parameter.requires_grad = False\n",
    "    \n",
    "    model.eval()\n",
    "    \n",
    "    return model"
   ]
  },
  {
   "cell_type": "code",
   "execution_count": 92,
   "metadata": {},
   "outputs": [],
   "source": [
    "batch_sz = 4\n",
    "\n",
    "def my_test_collate(batch):\n",
    "    \"\"\" collate lists of samples into batches, create [ batch_sz x agent_sz x seq_len x feature] \"\"\"\n",
    "#     print(batch)\n",
    "    inp = [numpy.dstack([scene['p_in'], scene['v_in']]) for scene in batch]\n",
    "    inp = torch.tensor(inp, dtype=torch.float)\n",
    "    agent = [scene['agent_id'] for scene in batch]\n",
    "    track = [scene['track_id'] for scene in batch]\n",
    "    track_ids = []\n",
    "    for scene in range(len(agent)):\n",
    "        for track_id in range(len(track[scene])):\n",
    "            if agent[scene] == track[scene][track_id][0][0]:\n",
    "                track_ids.append(track_id)\n",
    "                break\n",
    "    return [inp, track_ids]\n",
    "\n",
    "# intialize a dataset\n",
    "val_dataset  = ArgoverseDataset(data_path=val_path)\n",
    "val_loader = DataLoader(val_dataset,batch_size=batch_sz, shuffle = False, collate_fn=my_test_collate, num_workers=0, drop_last=True)\n"
   ]
  },
  {
   "cell_type": "code",
   "execution_count": 93,
   "metadata": {},
   "outputs": [],
   "source": [
    "def predict(model, device, test_loader):\n",
    "    model.eval()\n",
    "    test_loss = 0\n",
    "    correct = 0\n",
    "    predictions = []\n",
    "    with torch.no_grad():\n",
    "        for data, agent in test_loader:\n",
    "            data = torch.reshape(data, (4, 60, -1)).to(device)\n",
    "            output = torch.reshape(model(data), (4, 60, 30, -1))\n",
    "            for i in range(len(agent)):\n",
    "                scene = output[i][agent[i]]\n",
    "                predictions.append(scene)\n",
    "    predict = [torch.reshape(t, (-1,)) for t in predictions]\n",
    "    sample = pd.read_csv('sample_submission.csv')\n",
    "    preds_df = sample.set_index('ID')\n",
    "    for i in range(3200):\n",
    "        preds_df.iloc[i] = predict[i].tolist()\n",
    "    return preds_df"
   ]
  },
  {
   "cell_type": "code",
   "execution_count": 95,
   "metadata": {},
   "outputs": [],
   "source": [
    "net = NN(input_dim, output_dim)\n",
    "model = net.to(device)\n",
    "optimizer = optim.SGD(model.parameters(), lr=learning_rate,\n",
    "                      momentum=momentum, weight_decay=1e-5)\n",
    "net.load_state_dict(torch.load(\"checkpoints/train-epoch-linear-lower-learning11.pth\",map_location=device))\n",
    "model = net.to(device)\n",
    "preds = predict(model, device, val_loader)"
   ]
  },
  {
   "cell_type": "code",
   "execution_count": 96,
   "metadata": {},
   "outputs": [],
   "source": [
    "preds.to_csv('test_preds_linear-lower-learning11.csv')"
   ]
  },
  {
   "cell_type": "code",
   "execution_count": 97,
   "metadata": {},
   "outputs": [
    {
     "data": {
      "text/html": [
       "<div>\n",
       "<style scoped>\n",
       "    .dataframe tbody tr th:only-of-type {\n",
       "        vertical-align: middle;\n",
       "    }\n",
       "\n",
       "    .dataframe tbody tr th {\n",
       "        vertical-align: top;\n",
       "    }\n",
       "\n",
       "    .dataframe thead th {\n",
       "        text-align: right;\n",
       "    }\n",
       "</style>\n",
       "<table border=\"1\" class=\"dataframe\">\n",
       "  <thead>\n",
       "    <tr style=\"text-align: right;\">\n",
       "      <th></th>\n",
       "      <th>v1</th>\n",
       "      <th>v2</th>\n",
       "      <th>v3</th>\n",
       "      <th>v4</th>\n",
       "      <th>v5</th>\n",
       "      <th>v6</th>\n",
       "      <th>v7</th>\n",
       "      <th>v8</th>\n",
       "      <th>v9</th>\n",
       "      <th>v10</th>\n",
       "      <th>...</th>\n",
       "      <th>v51</th>\n",
       "      <th>v52</th>\n",
       "      <th>v53</th>\n",
       "      <th>v54</th>\n",
       "      <th>v55</th>\n",
       "      <th>v56</th>\n",
       "      <th>v57</th>\n",
       "      <th>v58</th>\n",
       "      <th>v59</th>\n",
       "      <th>v60</th>\n",
       "    </tr>\n",
       "    <tr>\n",
       "      <th>ID</th>\n",
       "      <th></th>\n",
       "      <th></th>\n",
       "      <th></th>\n",
       "      <th></th>\n",
       "      <th></th>\n",
       "      <th></th>\n",
       "      <th></th>\n",
       "      <th></th>\n",
       "      <th></th>\n",
       "      <th></th>\n",
       "      <th></th>\n",
       "      <th></th>\n",
       "      <th></th>\n",
       "      <th></th>\n",
       "      <th></th>\n",
       "      <th></th>\n",
       "      <th></th>\n",
       "      <th></th>\n",
       "      <th></th>\n",
       "      <th></th>\n",
       "      <th></th>\n",
       "    </tr>\n",
       "  </thead>\n",
       "  <tbody>\n",
       "    <tr>\n",
       "      <th>10002</th>\n",
       "      <td>1706.160645</td>\n",
       "      <td>333.418884</td>\n",
       "      <td>1707.764526</td>\n",
       "      <td>327.226440</td>\n",
       "      <td>1704.670776</td>\n",
       "      <td>336.969025</td>\n",
       "      <td>1700.612305</td>\n",
       "      <td>334.226349</td>\n",
       "      <td>1704.027344</td>\n",
       "      <td>330.474884</td>\n",
       "      <td>...</td>\n",
       "      <td>1709.344360</td>\n",
       "      <td>348.234802</td>\n",
       "      <td>1703.524414</td>\n",
       "      <td>346.118927</td>\n",
       "      <td>1709.697998</td>\n",
       "      <td>345.974396</td>\n",
       "      <td>1699.392456</td>\n",
       "      <td>350.419037</td>\n",
       "      <td>1705.004272</td>\n",
       "      <td>351.947968</td>\n",
       "    </tr>\n",
       "    <tr>\n",
       "      <th>10015</th>\n",
       "      <td>728.576904</td>\n",
       "      <td>1228.781616</td>\n",
       "      <td>722.767578</td>\n",
       "      <td>1233.504761</td>\n",
       "      <td>725.635010</td>\n",
       "      <td>1230.040161</td>\n",
       "      <td>726.430603</td>\n",
       "      <td>1231.975952</td>\n",
       "      <td>727.808350</td>\n",
       "      <td>1231.715088</td>\n",
       "      <td>...</td>\n",
       "      <td>723.009155</td>\n",
       "      <td>1229.996826</td>\n",
       "      <td>725.052124</td>\n",
       "      <td>1230.367310</td>\n",
       "      <td>725.295227</td>\n",
       "      <td>1231.436890</td>\n",
       "      <td>723.978394</td>\n",
       "      <td>1230.067871</td>\n",
       "      <td>725.914246</td>\n",
       "      <td>1231.117920</td>\n",
       "    </tr>\n",
       "    <tr>\n",
       "      <th>10019</th>\n",
       "      <td>570.078308</td>\n",
       "      <td>1244.290283</td>\n",
       "      <td>571.834290</td>\n",
       "      <td>1243.655518</td>\n",
       "      <td>571.864441</td>\n",
       "      <td>1244.224487</td>\n",
       "      <td>570.082947</td>\n",
       "      <td>1244.678345</td>\n",
       "      <td>572.629639</td>\n",
       "      <td>1244.290405</td>\n",
       "      <td>...</td>\n",
       "      <td>572.712646</td>\n",
       "      <td>1243.632324</td>\n",
       "      <td>569.932068</td>\n",
       "      <td>1242.535767</td>\n",
       "      <td>571.575806</td>\n",
       "      <td>1243.040649</td>\n",
       "      <td>569.787048</td>\n",
       "      <td>1242.248047</td>\n",
       "      <td>571.136597</td>\n",
       "      <td>1241.924438</td>\n",
       "    </tr>\n",
       "    <tr>\n",
       "      <th>10028</th>\n",
       "      <td>1686.107422</td>\n",
       "      <td>313.908691</td>\n",
       "      <td>1685.139526</td>\n",
       "      <td>310.522308</td>\n",
       "      <td>1685.287231</td>\n",
       "      <td>314.161469</td>\n",
       "      <td>1681.083496</td>\n",
       "      <td>313.903259</td>\n",
       "      <td>1684.617065</td>\n",
       "      <td>314.757843</td>\n",
       "      <td>...</td>\n",
       "      <td>1687.707397</td>\n",
       "      <td>327.891083</td>\n",
       "      <td>1684.803223</td>\n",
       "      <td>324.620605</td>\n",
       "      <td>1687.080322</td>\n",
       "      <td>330.067902</td>\n",
       "      <td>1680.284546</td>\n",
       "      <td>328.595184</td>\n",
       "      <td>1682.929565</td>\n",
       "      <td>331.234680</td>\n",
       "    </tr>\n",
       "    <tr>\n",
       "      <th>1003</th>\n",
       "      <td>2145.673096</td>\n",
       "      <td>689.003296</td>\n",
       "      <td>2127.127686</td>\n",
       "      <td>703.304504</td>\n",
       "      <td>2135.640381</td>\n",
       "      <td>679.399048</td>\n",
       "      <td>2137.571289</td>\n",
       "      <td>692.217651</td>\n",
       "      <td>2139.687256</td>\n",
       "      <td>696.269714</td>\n",
       "      <td>...</td>\n",
       "      <td>2119.270996</td>\n",
       "      <td>692.606018</td>\n",
       "      <td>2138.678223</td>\n",
       "      <td>696.936218</td>\n",
       "      <td>2132.155518</td>\n",
       "      <td>705.575928</td>\n",
       "      <td>2142.156494</td>\n",
       "      <td>703.995544</td>\n",
       "      <td>2133.557617</td>\n",
       "      <td>712.105408</td>\n",
       "    </tr>\n",
       "  </tbody>\n",
       "</table>\n",
       "<p>5 rows × 60 columns</p>\n",
       "</div>"
      ],
      "text/plain": [
       "                v1           v2           v3           v4           v5  \\\n",
       "ID                                                                       \n",
       "10002  1706.160645   333.418884  1707.764526   327.226440  1704.670776   \n",
       "10015   728.576904  1228.781616   722.767578  1233.504761   725.635010   \n",
       "10019   570.078308  1244.290283   571.834290  1243.655518   571.864441   \n",
       "10028  1686.107422   313.908691  1685.139526   310.522308  1685.287231   \n",
       "1003   2145.673096   689.003296  2127.127686   703.304504  2135.640381   \n",
       "\n",
       "                v6           v7           v8           v9          v10  ...  \\\n",
       "ID                                                                      ...   \n",
       "10002   336.969025  1700.612305   334.226349  1704.027344   330.474884  ...   \n",
       "10015  1230.040161   726.430603  1231.975952   727.808350  1231.715088  ...   \n",
       "10019  1244.224487   570.082947  1244.678345   572.629639  1244.290405  ...   \n",
       "10028   314.161469  1681.083496   313.903259  1684.617065   314.757843  ...   \n",
       "1003    679.399048  2137.571289   692.217651  2139.687256   696.269714  ...   \n",
       "\n",
       "               v51          v52          v53          v54          v55  \\\n",
       "ID                                                                       \n",
       "10002  1709.344360   348.234802  1703.524414   346.118927  1709.697998   \n",
       "10015   723.009155  1229.996826   725.052124  1230.367310   725.295227   \n",
       "10019   572.712646  1243.632324   569.932068  1242.535767   571.575806   \n",
       "10028  1687.707397   327.891083  1684.803223   324.620605  1687.080322   \n",
       "1003   2119.270996   692.606018  2138.678223   696.936218  2132.155518   \n",
       "\n",
       "               v56          v57          v58          v59          v60  \n",
       "ID                                                                      \n",
       "10002   345.974396  1699.392456   350.419037  1705.004272   351.947968  \n",
       "10015  1231.436890   723.978394  1230.067871   725.914246  1231.117920  \n",
       "10019  1243.040649   569.787048  1242.248047   571.136597  1241.924438  \n",
       "10028   330.067902  1680.284546   328.595184  1682.929565   331.234680  \n",
       "1003    705.575928  2142.156494   703.995544  2133.557617   712.105408  \n",
       "\n",
       "[5 rows x 60 columns]"
      ]
     },
     "execution_count": 97,
     "metadata": {},
     "output_type": "execute_result"
    }
   ],
   "source": [
    "preds.head()"
   ]
  },
  {
   "cell_type": "markdown",
   "metadata": {},
   "source": [
    "### Visualize Predictions"
   ]
  },
  {
   "cell_type": "code",
   "execution_count": 276,
   "metadata": {},
   "outputs": [],
   "source": [
    "batch_sz = 1\n",
    "\n",
    "def my_viz_collate(batch):\n",
    "    \"\"\" collate lists of samples into batches, create [ batch_sz x agent_sz x seq_len x feature] \"\"\"\n",
    "#     print(batch)\n",
    "    inp = [numpy.dstack([scene['p_in'], scene['v_in']]) for scene in batch]\n",
    "    inp = torch.tensor(inp, dtype=torch.float)\n",
    "    agent = [scene['agent_id'] for scene in batch]\n",
    "    track = [scene['track_id'] for scene in batch]\n",
    "    out = [scene['p_out'] for scene in batch]\n",
    "    out = torch.tensor(out, dtype=torch.float)\n",
    "    track_ids = []\n",
    "    for scene in range(len(agent)):\n",
    "        for track_id in range(len(track[scene])):\n",
    "            if agent[scene] == track[scene][track_id][0][0]:\n",
    "                track_ids.append(track_id)\n",
    "                break\n",
    "    return [inp, out, track_ids[0]]\n",
    "\n",
    "# intialize a dataset\n",
    "viz_dataset  = ArgoverseDataset(data_path=new_path)\n",
    "viz_loader = DataLoader(train_dataset,batch_size=batch_sz, shuffle = True, collate_fn=my_viz_collate, num_workers=0, drop_last=True)"
   ]
  },
  {
   "cell_type": "code",
   "execution_count": 277,
   "metadata": {},
   "outputs": [],
   "source": [
    "for inp, out, track_ids in viz_loader:\n",
    "    break"
   ]
  },
  {
   "cell_type": "code",
   "execution_count": 278,
   "metadata": {},
   "outputs": [],
   "source": [
    "def visualize_predict(model, device, inp, agent, out):\n",
    "    model.eval()\n",
    "    with torch.no_grad():\n",
    "        data = torch.reshape(inp, (1, 60, -1)).to(device)\n",
    "        output = torch.reshape(model(data), (1, 60, 30, -1))\n",
    "        fig, axs = plt.subplots(1,2, figsize=(15, 3), facecolor='w', edgecolor='k')\n",
    "        fig.subplots_adjust(hspace = .5, wspace=.1)\n",
    "        axs[0].xaxis.set_ticks([])\n",
    "        axs[0].yaxis.set_ticks([])\n",
    "        \n",
    "        axs[1].xaxis.set_ticks([])\n",
    "        axs[1].yaxis.set_ticks([])\n",
    "        \n",
    "        axs[0].scatter(inp[0, agent,:,0], inp[0, agent,:,1])\n",
    "        axs[0].scatter(out[0, agent,:,0], out[0, agent,:,1])\n",
    "        plt.title('Ground Truth')\n",
    "        \n",
    "        \n",
    "        axs[1].scatter(inp[0, agent,:,0], inp[0, agent,:,1])\n",
    "        axs[1].scatter(output[0, agent,:,0], output[0, agent,:,1])\n",
    "        plt.title('Predicted')\n",
    "#         axs[i].scatter(inp[i, agent_id,:,0], inp[i, agent_id,:,1])"
   ]
  },
  {
   "cell_type": "code",
   "execution_count": 279,
   "metadata": {},
   "outputs": [
    {
     "data": {
      "image/png": "[encoded data removed]",
      "text/plain": [
       "<Figure size 1080x216 with 2 Axes>"
      ]
     },
     "metadata": {},
     "output_type": "display_data"
    }
   ],
   "source": [
    "visualize_predict(model, device, inp, track_ids, out)\n",
    "i += 1\n",
    "plt.savefig('eda_results/example_output{}.png'.format(i))"
   ]
  },
  {
   "cell_type": "code",
   "execution_count": 263,
   "metadata": {},
   "outputs": [],
   "source": [
    "i = 0"
   ]
  },
  {
   "cell_type": "code",
   "execution_count": null,
   "metadata": {},
   "outputs": [],
   "source": []
  }
 ],
 "metadata": {
  "kernelspec": {
   "display_name": "Python 3",
   "language": "python",
   "name": "python3"
  },
  "language_info": {
   "codemirror_mode": {
    "name": "ipython",
    "version": 3
   },
   "file_extension": ".py",
   "mimetype": "text/x-python",
   "name": "python",
   "nbconvert_exporter": "python",
   "pygments_lexer": "ipython3",
   "version": "3.8.5"
  }
 },
 "nbformat": 4,
 "nbformat_minor": 4
}
