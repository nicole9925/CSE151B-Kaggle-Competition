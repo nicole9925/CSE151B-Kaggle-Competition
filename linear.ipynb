{
 "cells": [
  {
   "cell_type": "code",
   "execution_count": 55,
   "metadata": {},
   "outputs": [],
   "source": [
    "import torch\n",
    "from torch.utils.data import Dataset, DataLoader\n",
    "import os, os.path \n",
    "import numpy \n",
    "import pickle\n",
    "from glob import glob\n",
    "import pandas as pd\n",
    "import numpy as np\n",
    "import matplotlib.pyplot as plt\n",
    "import torch.nn as nn\n",
    "from torch import optim\n",
    "import torch.nn.functional as F\n",
    "from torch.autograd import Variable\n",
    "from torch.utils.data import RandomSampler, random_split, SubsetRandomSampler, WeightedRandomSampler\n",
    "\n",
    "\"\"\"Change to the data folder\"\"\"\n",
    "new_path = \"./new_train/new_train\"\n",
    "val_path = \"./new_val_in/new_val_in\" \n",
    "# number of sequences in each dataset\n",
    "# train:205942  val:3200 test: 36272 \n",
    "# sequences sampled at 10HZ rate"
   ]
  },
  {
   "cell_type": "code",
   "execution_count": null,
   "metadata": {},
   "outputs": [],
   "source": []
  },
  {
   "cell_type": "code",
   "execution_count": 56,
   "metadata": {},
   "outputs": [
    {
     "data": {
      "text/plain": [
       "False"
      ]
     },
     "execution_count": 56,
     "metadata": {},
     "output_type": "execute_result"
    }
   ],
   "source": [
    "torch.cuda.is_available()"
   ]
  },
  {
   "cell_type": "markdown",
   "metadata": {},
   "source": [
    "### Create a dataset class "
   ]
  },
  {
   "cell_type": "code",
   "execution_count": 70,
   "metadata": {},
   "outputs": [],
   "source": [
    "class ArgoverseDataset(Dataset):\n",
    "    \"\"\"Dataset class for Argoverse\"\"\"\n",
    "    def __init__(self, data_path: str, transform=None):\n",
    "        super(ArgoverseDataset, self).__init__()\n",
    "        self.data_path = data_path\n",
    "        self.transform = transform\n",
    "\n",
    "        self.pkl_list = glob(os.path.join(self.data_path, '*'))\n",
    "        self.pkl_list.sort()\n",
    "        \n",
    "    def __len__(self):\n",
    "        return len(self.pkl_list)\n",
    "\n",
    "    def __getitem__(self, idx):\n",
    "\n",
    "        pkl_path = self.pkl_list[idx]\n",
    "        with open(pkl_path, 'rb') as f:\n",
    "            data = pickle.load(f)\n",
    "            \n",
    "        if self.transform:\n",
    "            data = self.transform(data)\n",
    "\n",
    "        return data\n",
    "\n",
    "\n",
    "# intialize a dataset\n",
    "train_dataset  = ArgoverseDataset(data_path=new_path)"
   ]
  },
  {
   "cell_type": "markdown",
   "metadata": {},
   "source": [
    "### Create a loader to enable batch processing"
   ]
  },
  {
   "cell_type": "code",
   "execution_count": 71,
   "metadata": {},
   "outputs": [],
   "source": [
    "batch_sz = 32\n",
    "\n",
    "def my_collate(batch):\n",
    "    \"\"\" collate lists of samples into batches, create [ batch_sz x agent_sz x seq_len x feature] \"\"\"\n",
    "    inp = [numpy.dstack([scene['p_in'], scene['v_in']]) for scene in batch]\n",
    "    out = [numpy.dstack([scene['p_out'], scene['v_out']]) for scene in batch]\n",
    "    out = torch.LongTensor(out)\n",
    "    inp = torch.tensor(inp, dtype=torch.float)\n",
    "    out = torch.tensor(out, dtype=torch.float)\n",
    "    return [inp, out]\n",
    "\n",
    "train_dataset, val_dataset = random_split(train_dataset, (199078, 6864))\n",
    "\n",
    "# sampler = RandomSampler(train_dataset, num_samples = 6000, replacement=True)\n",
    "sampler = RandomSampler(train_dataset)\n",
    "\n",
    "train_loader = DataLoader(train_dataset,batch_size=batch_sz, shuffle = False, collate_fn=my_collate, num_workers=0, sampler = sampler, drop_last=True)\n",
    "val_loader = DataLoader(val_dataset,batch_size=batch_sz, shuffle = False, collate_fn=my_collate, num_workers=0, drop_last=True)\n"
   ]
  },
  {
   "cell_type": "code",
   "execution_count": 72,
   "metadata": {},
   "outputs": [],
   "source": [
    "class NN(nn.Module):\n",
    "    def __init__(self, input_size, output_size):\n",
    "        super(NN, self).__init__()\n",
    "        self.fc1 = torch.nn.Linear(input_size, output_size)\n",
    "        self.fc2 = torch.nn.Linear(output_size, output_size)\n",
    "\n",
    "    def forward(self, x):\n",
    "        x = self.fc1(x)\n",
    "        out = self.fc2(x)\n",
    "\n",
    "        return out\n",
    "    "
   ]
  },
  {
   "cell_type": "code",
   "execution_count": 73,
   "metadata": {},
   "outputs": [],
   "source": [
    "from tqdm.notebook import tqdm\n",
    "def train(model, device, train_loader, optimizer, epoch, log_interval=10000):\n",
    "    model.train()\n",
    "    iterator = tqdm(train_loader, total=int(len(train_loader)))\n",
    "    loss_ema = -1\n",
    "    for batch_idx, (data, target) in enumerate(iterator):\n",
    "        data, target = torch.reshape(data, (batch_sz, 60, -1)).to(device), torch.reshape(target[:,:,:,:2], (batch_sz, 60, -1)).to(device)\n",
    "        optimizer.zero_grad()\n",
    "        output = model(data)\n",
    "        loss = torch.sqrt(nn.MSELoss()(output, target))\n",
    "        loss.backward()\n",
    "        optimizer.step()\n",
    "        if loss_ema < 0:\n",
    "            loss_ema = loss.item()\n",
    "        loss_ema = loss_ema * 0.99 + loss.item()*0.01\n",
    "        iterator.set_postfix(loss=loss_ema)\n",
    "    return loss_ema"
   ]
  },
  {
   "cell_type": "code",
   "execution_count": 74,
   "metadata": {},
   "outputs": [],
   "source": [
    "def test(model, device, test_loader):\n",
    "    model.eval()\n",
    "    loss_ema = -1\n",
    "    with torch.no_grad():\n",
    "        for data, target in test_loader:\n",
    "            data, target = torch.reshape(data, (batch_sz, 60, -1)).to(device), torch.reshape(target[:,:,:,:2], (batch_sz, 60, -1)).to(device)\n",
    "            output = model(data)\n",
    "            loss = torch.sqrt(nn.MSELoss()(output, target))\n",
    "            if loss_ema < 0:\n",
    "                loss_ema = loss.item()\n",
    "            loss_ema = loss_ema * 0.99 + loss.item()*0.01\n",
    "    print(\"Test loss: {}\".format(loss_ema))"
   ]
  },
  {
   "cell_type": "code",
   "execution_count": 75,
   "metadata": {},
   "outputs": [],
   "source": [
    "input_dim = 76\n",
    "output_dim = 60  \n",
    "\n",
    "if torch.cuda.is_available():  \n",
    "    device = \"cuda:0\" \n",
    "else:  \n",
    "    device = \"cpu\"  \n",
    "    \n",
    "learning_rate = 0.0001\n",
    "momentum = 0.5"
   ]
  },
  {
   "cell_type": "code",
   "execution_count": 76,
   "metadata": {},
   "outputs": [],
   "source": [
    "net = NN(input_dim, output_dim)\n",
    "model = net.to(device)\n",
    "optimizer = optim.Adagrad(model.parameters(), lr=0.001, weight_decay=1e-5)\n",
    "num_epoch = 20\n",
    "losses = []"
   ]
  },
  {
   "cell_type": "code",
   "execution_count": null,
   "metadata": {},
   "outputs": [
    {
     "data": {
      "application/vnd.jupyter.widget-view+json": {
       "model_id": "823c0bea94d444f09fbfc95faffc2e7d",
       "version_major": 2,
       "version_minor": 0
      },
      "text/plain": [
       "  0%|          | 0/6221 [00:00<?, ?it/s]"
      ]
     },
     "metadata": {},
     "output_type": "display_data"
    },
    {
     "name": "stderr",
     "output_type": "stream",
     "text": [
      "<ipython-input-71-511119a857fb>:7: DeprecationWarning: an integer is required (got type numpy.float64).  Implicit conversion to integers using __int__ is deprecated, and may be removed in a future version of Python.\n",
      "  out = torch.LongTensor(out)\n",
      "<ipython-input-71-511119a857fb>:9: UserWarning: To copy construct from a tensor, it is recommended to use sourceTensor.clone().detach() or sourceTensor.clone().detach().requires_grad_(True), rather than torch.tensor(sourceTensor).\n",
      "  out = torch.tensor(out, dtype=torch.float)\n"
     ]
    }
   ],
   "source": [
    "for epoch in range(1, (num_epoch+ 1)):\n",
    "    loss = train(model, device, train_loader, optimizer, epoch)\n",
    "    losses.append(loss)\n",
    "    test(model, device, val_loader)\n",
    "    torch.save(model.state_dict(), 'checkpoints/train-full-epoch-2linear-{}.pth'.format(epoch + 1)) \n",
    "    \n",
    "with open(\"losses_test_linear-lower-learning10-20.txt\", \"w\") as output:\n",
    "    output.write(str(losses))"
   ]
  },
  {
   "cell_type": "code",
   "execution_count": 19,
   "metadata": {},
   "outputs": [
    {
     "data": {
      "image/png": "[encoded data removed]",
      "text/plain": [
       "<Figure size 432x288 with 1 Axes>"
      ]
     },
     "metadata": {
      "needs_background": "light"
     },
     "output_type": "display_data"
    }
   ],
   "source": [
    "plt.plot(losses)\n",
    "plt.title(\"Training Loss\")\n",
    "plt.xlabel(\"Epoch\")\n",
    "plt.ylabel(\"Loss\")\n",
    "plt.savefig('eda_results/training_subset_2linear-lower-learning.png')"
   ]
  },
  {
   "cell_type": "code",
   "execution_count": 20,
   "metadata": {},
   "outputs": [
    {
     "data": {
      "image/png": "[encoded data removed]",
      "text/plain": [
       "<Figure size 432x288 with 1 Axes>"
      ]
     },
     "metadata": {
      "needs_background": "light"
     },
     "output_type": "display_data"
    }
   ],
   "source": [
    "test_loss = [137, 3.7, 3, 2.7, 2.8, 2.4, 2.1, 2, 2.19, 1.84]\n",
    "\n",
    "plt.plot(test_loss)\n",
    "plt.title(\"Validation Loss\")\n",
    "plt.xlabel(\"Epoch\")\n",
    "plt.ylabel(\"Loss\")\n",
    "plt.savefig('eda_results/test_subset_2linear-lower-learning.png')"
   ]
  },
  {
   "cell_type": "markdown",
   "metadata": {},
   "source": [
    "## Test and predict"
   ]
  },
  {
   "cell_type": "code",
   "execution_count": 21,
   "metadata": {},
   "outputs": [],
   "source": [
    "def load_checkpoint(filepath):\n",
    "    checkpoint = torch.load(filepath)\n",
    "    model = checkpoint['model']\n",
    "    model.load_state_dict(checkpoint['state_dict'])\n",
    "    for parameter in model.parameters():\n",
    "        parameter.requires_grad = False\n",
    "    \n",
    "    model.eval()\n",
    "    \n",
    "    return model"
   ]
  },
  {
   "cell_type": "code",
   "execution_count": 22,
   "metadata": {},
   "outputs": [],
   "source": [
    "batch_sz = 4\n",
    "\n",
    "def my_test_collate(batch):\n",
    "    \"\"\" collate lists of samples into batches, create [ batch_sz x agent_sz x seq_len x feature] \"\"\"\n",
    "#     print(batch)\n",
    "    inp = [numpy.dstack([scene['p_in'], scene['v_in']]) for scene in batch]\n",
    "    inp = torch.tensor(inp, dtype=torch.float)\n",
    "    agent = [scene['agent_id'] for scene in batch]\n",
    "    track = [scene['track_id'] for scene in batch]\n",
    "    track_ids = []\n",
    "    for scene in range(len(agent)):\n",
    "        for track_id in range(len(track[scene])):\n",
    "            if agent[scene] == track[scene][track_id][0][0]:\n",
    "                track_ids.append(track_id)\n",
    "                break\n",
    "    return [inp, track_ids]\n",
    "\n",
    "# intialize a dataset\n",
    "val_dataset  = ArgoverseDataset(data_path=val_path)\n",
    "val_loader = DataLoader(val_dataset,batch_size=batch_sz, shuffle = False, collate_fn=my_test_collate, num_workers=0, drop_last=True)\n"
   ]
  },
  {
   "cell_type": "code",
   "execution_count": 23,
   "metadata": {},
   "outputs": [],
   "source": [
    "def predict(model, device, test_loader):\n",
    "    model.eval()\n",
    "    test_loss = 0\n",
    "    correct = 0\n",
    "    predictions = []\n",
    "    with torch.no_grad():\n",
    "        for data, agent in test_loader:\n",
    "            data = torch.reshape(data, (4, 60, -1)).to(device)\n",
    "            output = torch.reshape(model(data), (4, 60, 30, -1))\n",
    "            for i in range(len(agent)):\n",
    "                scene = output[i][agent[i]]\n",
    "                predictions.append(scene)\n",
    "    predict = [torch.reshape(t, (-1,)) for t in predictions]\n",
    "    sample = pd.read_csv('sample_submission.csv')\n",
    "    preds_df = sample.set_index('ID')\n",
    "    for i in range(3200):\n",
    "        preds_df.iloc[i] = predict[i].tolist()\n",
    "    return preds_df"
   ]
  },
  {
   "cell_type": "code",
   "execution_count": 26,
   "metadata": {},
   "outputs": [],
   "source": [
    "net = NN(input_dim, output_dim)\n",
    "# model = net.to(device)\n",
    "# optimizer = optim.SGD(model.parameters(), lr=learning_rate,\n",
    "#                       momentum=momentum, weight_decay=1e-5)\n",
    "net.load_state_dict(torch.load(\"checkpoints/train-epoch-2linear-11.pth\",map_location=device))\n",
    "model = net.to(device)\n",
    "preds = predict(model, device, val_loader)"
   ]
  },
  {
   "cell_type": "code",
   "execution_count": 27,
   "metadata": {},
   "outputs": [],
   "source": [
    "preds.to_csv('test_preds_2linear-lower-learning11.csv')"
   ]
  },
  {
   "cell_type": "code",
   "execution_count": 28,
   "metadata": {},
   "outputs": [
    {
     "data": {
      "text/html": [
       "<div>\n",
       "<style scoped>\n",
       "    .dataframe tbody tr th:only-of-type {\n",
       "        vertical-align: middle;\n",
       "    }\n",
       "\n",
       "    .dataframe tbody tr th {\n",
       "        vertical-align: top;\n",
       "    }\n",
       "\n",
       "    .dataframe thead th {\n",
       "        text-align: right;\n",
       "    }\n",
       "</style>\n",
       "<table border=\"1\" class=\"dataframe\">\n",
       "  <thead>\n",
       "    <tr style=\"text-align: right;\">\n",
       "      <th></th>\n",
       "      <th>v1</th>\n",
       "      <th>v2</th>\n",
       "      <th>v3</th>\n",
       "      <th>v4</th>\n",
       "      <th>v5</th>\n",
       "      <th>v6</th>\n",
       "      <th>v7</th>\n",
       "      <th>v8</th>\n",
       "      <th>v9</th>\n",
       "      <th>v10</th>\n",
       "      <th>...</th>\n",
       "      <th>v51</th>\n",
       "      <th>v52</th>\n",
       "      <th>v53</th>\n",
       "      <th>v54</th>\n",
       "      <th>v55</th>\n",
       "      <th>v56</th>\n",
       "      <th>v57</th>\n",
       "      <th>v58</th>\n",
       "      <th>v59</th>\n",
       "      <th>v60</th>\n",
       "    </tr>\n",
       "    <tr>\n",
       "      <th>ID</th>\n",
       "      <th></th>\n",
       "      <th></th>\n",
       "      <th></th>\n",
       "      <th></th>\n",
       "      <th></th>\n",
       "      <th></th>\n",
       "      <th></th>\n",
       "      <th></th>\n",
       "      <th></th>\n",
       "      <th></th>\n",
       "      <th></th>\n",
       "      <th></th>\n",
       "      <th></th>\n",
       "      <th></th>\n",
       "      <th></th>\n",
       "      <th></th>\n",
       "      <th></th>\n",
       "      <th></th>\n",
       "      <th></th>\n",
       "      <th></th>\n",
       "      <th></th>\n",
       "    </tr>\n",
       "  </thead>\n",
       "  <tbody>\n",
       "    <tr>\n",
       "      <th>10002</th>\n",
       "      <td>1721.676025</td>\n",
       "      <td>343.984711</td>\n",
       "      <td>1719.564087</td>\n",
       "      <td>347.565216</td>\n",
       "      <td>1726.023438</td>\n",
       "      <td>346.056915</td>\n",
       "      <td>1720.846436</td>\n",
       "      <td>344.496246</td>\n",
       "      <td>1719.948730</td>\n",
       "      <td>337.739746</td>\n",
       "      <td>...</td>\n",
       "      <td>1729.450684</td>\n",
       "      <td>352.578888</td>\n",
       "      <td>1722.187500</td>\n",
       "      <td>351.431702</td>\n",
       "      <td>1732.479980</td>\n",
       "      <td>346.459717</td>\n",
       "      <td>1730.572266</td>\n",
       "      <td>351.635345</td>\n",
       "      <td>1727.247437</td>\n",
       "      <td>355.337708</td>\n",
       "    </tr>\n",
       "    <tr>\n",
       "      <th>10015</th>\n",
       "      <td>721.476929</td>\n",
       "      <td>1225.619385</td>\n",
       "      <td>723.138489</td>\n",
       "      <td>1225.407227</td>\n",
       "      <td>723.352478</td>\n",
       "      <td>1225.367432</td>\n",
       "      <td>722.623291</td>\n",
       "      <td>1225.003662</td>\n",
       "      <td>722.377930</td>\n",
       "      <td>1227.757568</td>\n",
       "      <td>...</td>\n",
       "      <td>722.274719</td>\n",
       "      <td>1224.798584</td>\n",
       "      <td>723.001709</td>\n",
       "      <td>1224.693848</td>\n",
       "      <td>721.077087</td>\n",
       "      <td>1226.999634</td>\n",
       "      <td>723.098511</td>\n",
       "      <td>1225.501221</td>\n",
       "      <td>722.051270</td>\n",
       "      <td>1224.679321</td>\n",
       "    </tr>\n",
       "    <tr>\n",
       "      <th>10019</th>\n",
       "      <td>574.884766</td>\n",
       "      <td>1243.731445</td>\n",
       "      <td>574.119995</td>\n",
       "      <td>1244.159424</td>\n",
       "      <td>575.255005</td>\n",
       "      <td>1244.068237</td>\n",
       "      <td>574.950623</td>\n",
       "      <td>1243.361816</td>\n",
       "      <td>574.450500</td>\n",
       "      <td>1243.477051</td>\n",
       "      <td>...</td>\n",
       "      <td>575.891113</td>\n",
       "      <td>1245.463867</td>\n",
       "      <td>575.087524</td>\n",
       "      <td>1244.793091</td>\n",
       "      <td>575.067200</td>\n",
       "      <td>1244.093506</td>\n",
       "      <td>577.018738</td>\n",
       "      <td>1244.991943</td>\n",
       "      <td>575.849670</td>\n",
       "      <td>1245.230103</td>\n",
       "    </tr>\n",
       "    <tr>\n",
       "      <th>10028</th>\n",
       "      <td>1695.933472</td>\n",
       "      <td>318.906006</td>\n",
       "      <td>1695.606812</td>\n",
       "      <td>320.437592</td>\n",
       "      <td>1698.108521</td>\n",
       "      <td>320.986084</td>\n",
       "      <td>1696.161621</td>\n",
       "      <td>319.897247</td>\n",
       "      <td>1695.268066</td>\n",
       "      <td>315.488708</td>\n",
       "      <td>...</td>\n",
       "      <td>1701.093628</td>\n",
       "      <td>325.477692</td>\n",
       "      <td>1698.599609</td>\n",
       "      <td>324.318329</td>\n",
       "      <td>1703.747192</td>\n",
       "      <td>321.468079</td>\n",
       "      <td>1701.658203</td>\n",
       "      <td>325.174255</td>\n",
       "      <td>1701.174561</td>\n",
       "      <td>327.426086</td>\n",
       "    </tr>\n",
       "    <tr>\n",
       "      <th>1003</th>\n",
       "      <td>2109.111572</td>\n",
       "      <td>663.655518</td>\n",
       "      <td>2112.226562</td>\n",
       "      <td>658.265808</td>\n",
       "      <td>2105.736572</td>\n",
       "      <td>659.823181</td>\n",
       "      <td>2111.943115</td>\n",
       "      <td>663.790283</td>\n",
       "      <td>2112.571045</td>\n",
       "      <td>674.158630</td>\n",
       "      <td>...</td>\n",
       "      <td>2103.516846</td>\n",
       "      <td>657.392822</td>\n",
       "      <td>2112.767090</td>\n",
       "      <td>658.653015</td>\n",
       "      <td>2100.581055</td>\n",
       "      <td>666.185608</td>\n",
       "      <td>2102.803711</td>\n",
       "      <td>657.115784</td>\n",
       "      <td>2104.987793</td>\n",
       "      <td>652.919800</td>\n",
       "    </tr>\n",
       "  </tbody>\n",
       "</table>\n",
       "<p>5 rows × 60 columns</p>\n",
       "</div>"
      ],
      "text/plain": [
       "                v1           v2           v3           v4           v5  \\\n",
       "ID                                                                       \n",
       "10002  1721.676025   343.984711  1719.564087   347.565216  1726.023438   \n",
       "10015   721.476929  1225.619385   723.138489  1225.407227   723.352478   \n",
       "10019   574.884766  1243.731445   574.119995  1244.159424   575.255005   \n",
       "10028  1695.933472   318.906006  1695.606812   320.437592  1698.108521   \n",
       "1003   2109.111572   663.655518  2112.226562   658.265808  2105.736572   \n",
       "\n",
       "                v6           v7           v8           v9          v10  ...  \\\n",
       "ID                                                                      ...   \n",
       "10002   346.056915  1720.846436   344.496246  1719.948730   337.739746  ...   \n",
       "10015  1225.367432   722.623291  1225.003662   722.377930  1227.757568  ...   \n",
       "10019  1244.068237   574.950623  1243.361816   574.450500  1243.477051  ...   \n",
       "10028   320.986084  1696.161621   319.897247  1695.268066   315.488708  ...   \n",
       "1003    659.823181  2111.943115   663.790283  2112.571045   674.158630  ...   \n",
       "\n",
       "               v51          v52          v53          v54          v55  \\\n",
       "ID                                                                       \n",
       "10002  1729.450684   352.578888  1722.187500   351.431702  1732.479980   \n",
       "10015   722.274719  1224.798584   723.001709  1224.693848   721.077087   \n",
       "10019   575.891113  1245.463867   575.087524  1244.793091   575.067200   \n",
       "10028  1701.093628   325.477692  1698.599609   324.318329  1703.747192   \n",
       "1003   2103.516846   657.392822  2112.767090   658.653015  2100.581055   \n",
       "\n",
       "               v56          v57          v58          v59          v60  \n",
       "ID                                                                      \n",
       "10002   346.459717  1730.572266   351.635345  1727.247437   355.337708  \n",
       "10015  1226.999634   723.098511  1225.501221   722.051270  1224.679321  \n",
       "10019  1244.093506   577.018738  1244.991943   575.849670  1245.230103  \n",
       "10028   321.468079  1701.658203   325.174255  1701.174561   327.426086  \n",
       "1003    666.185608  2102.803711   657.115784  2104.987793   652.919800  \n",
       "\n",
       "[5 rows x 60 columns]"
      ]
     },
     "execution_count": 28,
     "metadata": {},
     "output_type": "execute_result"
    }
   ],
   "source": [
    "preds.head()"
   ]
  },
  {
   "cell_type": "markdown",
   "metadata": {},
   "source": [
    "### Visualize Predictions"
   ]
  },
  {
   "cell_type": "code",
   "execution_count": 38,
   "metadata": {},
   "outputs": [],
   "source": [
    "batch_sz = 1\n",
    "\n",
    "def my_viz_collate(batch):\n",
    "    \"\"\" collate lists of samples into batches, create [ batch_sz x agent_sz x seq_len x feature] \"\"\"\n",
    "#     print(batch)\n",
    "    inp = [numpy.dstack([scene['p_in'], scene['v_in']]) for scene in batch]\n",
    "    inp = torch.tensor(inp, dtype=torch.float)\n",
    "    agent = [scene['agent_id'] for scene in batch]\n",
    "    track = [scene['track_id'] for scene in batch]\n",
    "    out = [scene['p_out'] for scene in batch]\n",
    "    out = torch.tensor(out, dtype=torch.float)\n",
    "    track_ids = []\n",
    "    for scene in range(len(agent)):\n",
    "        for track_id in range(len(track[scene])):\n",
    "            if agent[scene] == track[scene][track_id][0][0]:\n",
    "                track_ids.append(track_id)\n",
    "                break\n",
    "    return [inp, out, track_ids[0]]\n",
    "\n",
    "# intialize a dataset\n",
    "viz_dataset  = ArgoverseDataset(data_path=new_path)\n",
    "viz_loader = DataLoader(train_dataset,batch_size=batch_sz, shuffle = True, collate_fn=my_viz_collate, num_workers=0, drop_last=True)"
   ]
  },
  {
   "cell_type": "code",
   "execution_count": 39,
   "metadata": {},
   "outputs": [],
   "source": [
    "for inp, out, track_ids in viz_loader:\n",
    "    break"
   ]
  },
  {
   "cell_type": "code",
   "execution_count": 40,
   "metadata": {},
   "outputs": [],
   "source": [
    "def visualize_predict(model, device, inp, agent, out):\n",
    "    model.eval()\n",
    "    with torch.no_grad():\n",
    "        data = torch.reshape(inp, (1, 60, -1)).to(device)\n",
    "        output = torch.reshape(model(data), (1, 60, 30, -1))\n",
    "        fig, axs = plt.subplots(1,2, figsize=(15, 3), facecolor='w', edgecolor='k')\n",
    "        fig.subplots_adjust(hspace = .5, wspace=.1)\n",
    "        axs[0].xaxis.set_ticks([])\n",
    "        axs[0].yaxis.set_ticks([])\n",
    "        \n",
    "        axs[1].xaxis.set_ticks([])\n",
    "        axs[1].yaxis.set_ticks([])\n",
    "        \n",
    "        axs[0].scatter(inp[0, agent,:,0], inp[0, agent,:,1])\n",
    "        axs[0].scatter(out[0, agent,:,0], out[0, agent,:,1])\n",
    "        plt.title('Ground Truth')\n",
    "        \n",
    "        \n",
    "        axs[1].scatter(inp[0, agent,:,0], inp[0, agent,:,1])\n",
    "        axs[1].scatter(output[0, agent,:,0], output[0, agent,:,1])\n",
    "        plt.title('Predicted')\n",
    "#         axs[i].scatter(inp[i, agent_id,:,0], inp[i, agent_id,:,1])"
   ]
  },
  {
   "cell_type": "code",
   "execution_count": 41,
   "metadata": {},
   "outputs": [
    {
     "data": {
      "image/png": "[encoded data removed]",
      "text/plain": [
       "<Figure size 1080x216 with 2 Axes>"
      ]
     },
     "metadata": {},
     "output_type": "display_data"
    }
   ],
   "source": [
    "visualize_predict(model, device, inp, track_ids, out)\n",
    "i = 4\n",
    "plt.savefig('eda_results/example_output_2linear-{}.png'.format(i))"
   ]
  },
  {
   "cell_type": "code",
   "execution_count": 263,
   "metadata": {},
   "outputs": [],
   "source": [
    "i = 0"
   ]
  },
  {
   "cell_type": "code",
   "execution_count": null,
   "metadata": {},
   "outputs": [],
   "source": []
  }
 ],
 "metadata": {
  "kernelspec": {
   "display_name": "Python 3",
   "language": "python",
   "name": "python3"
  },
  "language_info": {
   "codemirror_mode": {
    "name": "ipython",
    "version": 3
   },
   "file_extension": ".py",
   "mimetype": "text/x-python",
   "name": "python",
   "nbconvert_exporter": "python",
   "pygments_lexer": "ipython3",
   "version": "3.8.5"
  }
 },
 "nbformat": 4,
 "nbformat_minor": 4
}
