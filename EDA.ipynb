{
 "cells": [
  {
   "cell_type": "code",
   "execution_count": 67,
   "metadata": {},
   "outputs": [],
   "source": [
    "import torch\n",
    "from torch.utils.data import Dataset, DataLoader\n",
    "import os, os.path \n",
    "import numpy \n",
    "import pickle\n",
    "from glob import glob\n",
    "import pandas as pd\n",
    "import numpy as np\n",
    "from collections import defaultdict\n",
    "from tqdm.notebook import tqdm\n",
    "import json\n",
    "import matplotlib.pyplot as plt\n",
    "\n",
    "import torch.nn as nn\n",
    "from torch import optim\n",
    "import torch.nn.functional as F\n",
    "from torch.autograd import Variable\n",
    "from torch.utils.data.sampler import RandomSampler\n",
    "\n",
    "\"\"\"Change to the data folder\"\"\"\n",
    "new_path = \"./new_train/new_train\"\n",
    "val_path = \"./new_val_in/new_val_in\" \n",
    "# number of sequences in each dataset\n",
    "# train:205942  val:3200 test: 36272 \n",
    "# sequences sampled at 10HZ rate"
   ]
  },
  {
   "cell_type": "code",
   "execution_count": 68,
   "metadata": {},
   "outputs": [
    {
     "data": {
      "text/plain": [
       "False"
      ]
     },
     "execution_count": 68,
     "metadata": {},
     "output_type": "execute_result"
    }
   ],
   "source": [
    "torch.cuda.is_available()"
   ]
  },
  {
   "cell_type": "markdown",
   "metadata": {},
   "source": [
    "### Create a dataset class "
   ]
  },
  {
   "cell_type": "code",
   "execution_count": 69,
   "metadata": {},
   "outputs": [],
   "source": [
    "class ArgoverseDataset(Dataset):\n",
    "    \"\"\"Dataset class for Argoverse\"\"\"\n",
    "    def __init__(self, data_path: str, transform=None):\n",
    "        super(ArgoverseDataset, self).__init__()\n",
    "        self.data_path = data_path\n",
    "        self.transform = transform\n",
    "\n",
    "        self.pkl_list = glob(os.path.join(self.data_path, '*'))\n",
    "        self.pkl_list.sort()\n",
    "        \n",
    "    def __len__(self):\n",
    "        return len(self.pkl_list)\n",
    "\n",
    "    def __getitem__(self, idx):\n",
    "\n",
    "        pkl_path = self.pkl_list[idx]\n",
    "        with open(pkl_path, 'rb') as f:\n",
    "            data = pickle.load(f)\n",
    "            \n",
    "        if self.transform:\n",
    "            data = self.transform(data)\n",
    "\n",
    "        return data\n",
    "\n",
    "\n",
    "# intialize a dataset\n",
    "train_dataset  = ArgoverseDataset(data_path=new_path)"
   ]
  },
  {
   "cell_type": "markdown",
   "metadata": {},
   "source": [
    "### Check input/output distribution\n",
    "#### Create Loader"
   ]
  },
  {
   "cell_type": "code",
   "execution_count": 257,
   "metadata": {},
   "outputs": [],
   "source": [
    "batch_sz = 1\n",
    "\n",
    "def my_collate(batch):\n",
    "    \"\"\" collate lists of samples into batches, create [ batch_sz x agent_sz x seq_len x feature] \"\"\"\n",
    "    inp_x = np.array([np.array(x).flatten() for x in [scene['p_in'] for scene in batch]])[0][::2]\n",
    "    out_x = np.array([np.array(x).flatten() for x in [scene['p_out'] for scene in batch]])[0][::2]\n",
    "    inp_y = np.array([np.array(x).flatten() for x in [scene['p_in'] for scene in batch]])[0][1::2]\n",
    "    out_y = np.array([np.array(x).flatten() for x in [scene['p_out'] for scene in batch]])[0][1::2]\n",
    "    \n",
    "    inp_vx = np.array([np.array(x).flatten() for x in [scene['v_in'] for scene in batch]])[0][::2]\n",
    "    inp_vy = np.array([np.array(x).flatten() for x in [scene['v_in'] for scene in batch]])[0][1::2]\n",
    "\n",
    "    return [inp_x, inp_y, out_x, out_y, inp_vx, inp_vy]\n",
    "\n",
    "train_loader = DataLoader(train_dataset,batch_size=batch_sz, shuffle = False, collate_fn=my_collate, num_workers=0, drop_last=True)\n"
   ]
  },
  {
   "cell_type": "markdown",
   "metadata": {},
   "source": [
    "#### Extract values of input/output"
   ]
  },
  {
   "cell_type": "code",
   "execution_count": 151,
   "metadata": {},
   "outputs": [
    {
     "data": {
      "application/vnd.jupyter.widget-view+json": {
       "model_id": "dd0a7c7e2e3a4ace940d661db56a9074",
       "version_major": 2,
       "version_minor": 0
      },
      "text/plain": [
       "0it [00:00, ?it/s]"
      ]
     },
     "metadata": {},
     "output_type": "display_data"
    }
   ],
   "source": [
    "def round_down(num):\n",
    "    return num - (num%100)\n",
    "\n",
    "dct_inpx = defaultdict(int)\n",
    "dct_outx = defaultdict(int)\n",
    "dct_inpy = defaultdict(int)\n",
    "dct_outy = defaultdict(int)\n",
    "dct_inpvx = defaultdict(int)\n",
    "dct_inpvy = defaultdict(int)\n",
    "\n",
    "for i_batch, batch in tqdm(enumerate(train_loader)):\n",
    "    inp_x, inp_y, out_x, out_y, inp_vx, inp_vy  = batch\n",
    "    inp_x = [x for x in inp_x if x != 0]\n",
    "    out_x = [x for x in out_x if x != 0]\n",
    "    inp_y = [x for x in inp_y if x != 0]\n",
    "    out_y = [x for x in out_y if x != 0]\n",
    "    inp_vx = [x for x in inp_vx if x != 0]\n",
    "    inp_vy = [x for x in inp_vy if x != 0]\n",
    "    \n",
    "    for i in inp_x:\n",
    "        dct_inpx[(round_down(i) + 50)] += 1\n",
    "    for o in out_x:\n",
    "        dct_outx[(round_down(o) + 50)] += 1\n",
    "    for i in inp_y:\n",
    "        dct_inpy[(round_down(i) + 50)] += 1\n",
    "    for o in out_y:\n",
    "        dct_outy[(round_down(o) + 50)] += 1\n",
    "    for i in inp_vx:\n",
    "        dct_inpvx[(round_down(i) + 50)] += 1\n",
    "    for o in inp_vy:\n",
    "        dct_inpvy[(round_down(o) + 50)] += 1"
   ]
  },
  {
   "cell_type": "code",
   "execution_count": 262,
   "metadata": {},
   "outputs": [],
   "source": [
    "def round_down_500(num):\n",
    "    return num - (num%500)\n",
    "\n",
    "new_inpx = defaultdict(int)\n",
    "for key in dct_inpx.keys():\n",
    "    new_inpx[round_down_500(key)+250] += dct_inpx[key]\n",
    "\n",
    "new_outx = defaultdict(int)\n",
    "for key in dct_outx.keys():\n",
    "    new_outx[round_down_500(key)+250] += dct_outx[key]\n",
    "    \n",
    "new_inpy = defaultdict(int)\n",
    "for key in dct_inpy.keys():\n",
    "    new_inpy[round_down_500(key)+250] += dct_inpy[key]\n",
    "\n",
    "new_outy = defaultdict(int)\n",
    "for key in dct_outy.keys():\n",
    "    new_outy[round_down_500(key)+250] += dct_outy[key]\n",
    "    \n",
    "new_inpvx = defaultdict(int)\n",
    "for key in dct_inpvx.keys():\n",
    "    new_inpvx[round_down_500(key)+250] += dct_inpvx[key]\n",
    "\n",
    "new_inpvy = defaultdict(int)\n",
    "for key in dct_inpvy.keys():\n",
    "    new_inpvy[round_down_500(key)+250] += dct_inpvy[key]"
   ]
  },
  {
   "cell_type": "code",
   "execution_count": 263,
   "metadata": {},
   "outputs": [
    {
     "data": {
      "image/png": "[encoded data removed]",
      "text/plain": [
       "<Figure size 1440x720 with 6 Axes>"
      ]
     },
     "metadata": {
      "needs_background": "light"
     },
     "output_type": "display_data"
    }
   ],
   "source": [
    "f, ((ax1, ax2), (ax3, ax4), (ax5, ax6)) = plt.subplots(3, 2, sharex='col', sharey='row', figsize=(20,10))\n",
    "# f.subplots_adjust(hspace=.5)\n",
    "ax1.bar(new_inpx.keys(), new_inpx.values(), width=500, facecolor='#b700fa', edgecolor='#d991ff')\n",
    "ax1.set_xlabel('Position')\n",
    "ax1.set_ylabel('Count')\n",
    "ax1.set_title('Input X Positions')\n",
    "\n",
    "ax2.bar(new_inpy.keys(), new_inpy.values(), width=500, facecolor='#b700fa', edgecolor='#d991ff')\n",
    "ax2.set_xlabel('Position')\n",
    "ax2.set_ylabel('Count')\n",
    "ax2.set_title('Input Y Positions')\n",
    "\n",
    "ax3.bar(new_outx.keys(), new_outx.values(), width=500, facecolor='black', edgecolor='white')\n",
    "ax3.set_xlabel('Position')\n",
    "ax3.set_ylabel('Count')\n",
    "ax3.set_title('Output X Positions')\n",
    "\n",
    "ax4.bar(new_outy.keys(), new_outy.values(), width=500, facecolor='black', edgecolor='white')\n",
    "ax4.set_xlabel('Position')\n",
    "ax4.set_ylabel('Count')\n",
    "ax4.set_title('Output Y Positions')\n",
    "\n",
    "ax5.bar(new_inpvx.keys(), new_inpvx.values(), width=500, facecolor='#6734eb', edgecolor='#bfaded')\n",
    "ax5.set_xlabel('Velocity')\n",
    "ax5.set_ylabel('Count')\n",
    "ax5.set_title('Input X Velocity')\n",
    "\n",
    "ax6.bar(new_inpvy.keys(), new_inpvy.values(), width=500, facecolor='#6734eb', edgecolor='#bfaded')\n",
    "ax6.set_xlabel('Velocity')\n",
    "ax6.set_ylabel('Count')\n",
    "ax6.set_title('Input Y Velocity')\n",
    "\n",
    "plt.savefig('distributions.png')"
   ]
  },
  {
   "cell_type": "code",
   "execution_count": 261,
   "metadata": {},
   "outputs": [
    {
     "name": "stdout",
     "output_type": "stream",
     "text": [
      "[-0.00023823 -0.00036088 -0.00143323 ...  0.          0.\n",
      "  0.        ]\n"
     ]
    }
   ],
   "source": [
    "for i_batch, batch in enumerate(train_loader):\n",
    "    print(batch[5])\n",
    "    break"
   ]
  },
  {
   "cell_type": "code",
   "execution_count": 235,
   "metadata": {},
   "outputs": [],
   "source": [
    "# json.dump(dct_inpx, open('inpx_bins.json', 'w'))\n",
    "# json.dump(dct_outx, open('outx_bins.json', 'w'))\n",
    "# json.dump(dct_inpy, open('inpy_bins.json', 'w'))\n",
    "# json.dump(dct_outy, open('outy_bins.json', 'w'))\n",
    "# json.dump(dct_inpvx, open('inpvx_bins.json', 'w'))\n",
    "# json.dump(dct_inpvy, open('inpvy_bins.json', 'w'))"
   ]
  },
  {
   "cell_type": "markdown",
   "metadata": {},
   "source": [
    "### Determining number of agents"
   ]
  },
  {
   "cell_type": "code",
   "execution_count": 264,
   "metadata": {},
   "outputs": [],
   "source": [
    "batch_sz = 1\n",
    "\n",
    "def my_collate_agents(batch):\n",
    "    \"\"\" collate lists of samples into batches, create [ batch_sz x agent_sz x seq_len x feature] \"\"\"\n",
    "    agents = sum(np.array([scene['car_mask'] for scene in batch]).flatten())\n",
    "\n",
    "    return agents\n",
    "\n",
    "train_loader = DataLoader(train_dataset,batch_size=batch_sz, shuffle = False, collate_fn=my_collate_agents, num_workers=0, drop_last=True)\n"
   ]
  },
  {
   "cell_type": "code",
   "execution_count": 266,
   "metadata": {},
   "outputs": [
    {
     "data": {
      "application/vnd.jupyter.widget-view+json": {
       "model_id": "6e777b0559ff4a60affe9219b1967ec6",
       "version_major": 2,
       "version_minor": 0
      },
      "text/plain": [
       "0it [00:00, ?it/s]"
      ]
     },
     "metadata": {},
     "output_type": "display_data"
    }
   ],
   "source": [
    "num_agents = []\n",
    "for i_batch, batch in tqdm(enumerate(train_loader)):\n",
    "    num_agents.append(batch)"
   ]
  },
  {
   "cell_type": "code",
   "execution_count": 274,
   "metadata": {},
   "outputs": [
    {
     "data": {
      "image/png": "[encoded data removed]",
      "text/plain": [
       "<Figure size 432x288 with 1 Axes>"
      ]
     },
     "metadata": {
      "needs_background": "light"
     },
     "output_type": "display_data"
    }
   ],
   "source": [
    "plt.hist(num_agents, alpha=0.5, edgecolor='white')\n",
    "plt.title(\"Number of Agents\")\n",
    "plt.xlabel('Number of Agents')\n",
    "plt.ylabel(\"Count\")\n",
    "plt.savefig('agents.png')"
   ]
  },
  {
   "cell_type": "code",
   "execution_count": 277,
   "metadata": {},
   "outputs": [
    {
     "name": "stdout",
     "output_type": "stream",
     "text": [
      "Mean: 8.799424109700789\n",
      "Max: 46.0\n",
      "Min: 2.0\n",
      "STD: 4.814979904748634\n"
     ]
    }
   ],
   "source": [
    "print(\"Mean: {}\".format(np.mean(num_agents)))\n",
    "print(\"Max: {}\".format(np.max(num_agents)))\n",
    "print(\"Min: {}\".format(np.min(num_agents)))\n",
    "print(\"STD: {}\".format(np.std(num_agents)))"
   ]
  },
  {
   "cell_type": "code",
   "execution_count": 324,
   "metadata": {},
   "outputs": [],
   "source": [
    "# json.dump(num_agents, open('agents.json', 'w'))"
   ]
  },
  {
   "cell_type": "markdown",
   "metadata": {},
   "source": [
    "### Analyzing Distance"
   ]
  },
  {
   "cell_type": "code",
   "execution_count": 321,
   "metadata": {},
   "outputs": [],
   "source": [
    "batch_sz = 1\n",
    "\n",
    "def my_collate_distance(batch):\n",
    "    \"\"\" collate lists of samples into batches, create [ batch_sz x agent_sz x seq_len x feature] \"\"\"\n",
    "    inp = [scene['p_in'] for scene in batch]\n",
    "    out = [scene['p_out'] for scene in batch]\n",
    "    agent = [scene['agent_id'] for scene in batch]\n",
    "    track = [scene['track_id'] for scene in batch]\n",
    "    track_ids = []\n",
    "    for scene in range(len(agent)):\n",
    "        for track_id in range(len(track[scene])):\n",
    "            if agent[scene] == track[scene][track_id][0][0]:\n",
    "                track_ids.append(track_id)\n",
    "                break\n",
    "    return [np.array([inp[0][track_id][0][0], inp[0][track_id][0][1]]), np.array([out[0][track_id][-1][0], out[0][track_id][-1][1]])]\n",
    "\n",
    "    return distance\n",
    "\n",
    "train_loader = DataLoader(train_dataset,batch_size=batch_sz, shuffle = False, collate_fn=my_collate_distance, num_workers=0, drop_last=True)\n"
   ]
  },
  {
   "cell_type": "code",
   "execution_count": 325,
   "metadata": {},
   "outputs": [
    {
     "data": {
      "application/vnd.jupyter.widget-view+json": {
       "model_id": "fd13171eca874131bbc3dd92220c0ee0",
       "version_major": 2,
       "version_minor": 0
      },
      "text/plain": [
       "0it [00:00, ?it/s]"
      ]
     },
     "metadata": {},
     "output_type": "display_data"
    }
   ],
   "source": [
    "distances = []\n",
    "for i_batch, batch in tqdm(enumerate(train_loader)):\n",
    "    inp, out = batch\n",
    "    dist = np.linalg.norm(inp - out)\n",
    "    distances.append(dist)"
   ]
  },
  {
   "cell_type": "code",
   "execution_count": 328,
   "metadata": {},
   "outputs": [
    {
     "data": {
      "image/png": "[encoded data removed]",
      "text/plain": [
       "<Figure size 432x288 with 1 Axes>"
      ]
     },
     "metadata": {
      "needs_background": "light"
     },
     "output_type": "display_data"
    }
   ],
   "source": [
    "plt.hist(distances, alpha=0.5, facecolor='#26ad61', edgecolor='white')\n",
    "plt.title(\"Distance Travelled from First to Last Timestep\")\n",
    "plt.xlabel('Distance')\n",
    "plt.ylabel(\"Count\")\n",
    "plt.savefig('distance.png')"
   ]
  },
  {
   "cell_type": "code",
   "execution_count": 329,
   "metadata": {},
   "outputs": [
    {
     "name": "stdout",
     "output_type": "stream",
     "text": [
      "Mean: 41.501465819175955\n",
      "Max: 176.73225867264216\n",
      "Min: 0.8224763962545945\n",
      "STD: 20.198842089515555\n"
     ]
    }
   ],
   "source": [
    "print(\"Mean: {}\".format(np.mean(distances)))\n",
    "print(\"Max: {}\".format(np.max(distances)))\n",
    "print(\"Min: {}\".format(np.min(distances)))\n",
    "print(\"STD: {}\".format(np.std(distances)))"
   ]
  },
  {
   "cell_type": "code",
   "execution_count": 326,
   "metadata": {},
   "outputs": [],
   "source": [
    "# json.dump(distances, open('distance.json', 'w'))"
   ]
  },
  {
   "cell_type": "markdown",
   "metadata": {},
   "source": [
    "### Visualize the batch of sequences"
   ]
  },
  {
   "cell_type": "code",
   "execution_count": 31,
   "metadata": {},
   "outputs": [
    {
     "name": "stderr",
     "output_type": "stream",
     "text": [
      "/opt/conda/lib/python3.7/site-packages/ipykernel_launcher.py:9: UserWarning: To copy construct from a tensor, it is recommended to use sourceTensor.clone().detach() or sourceTensor.clone().detach().requires_grad_(True), rather than torch.tensor(sourceTensor).\n",
      "  if __name__ == '__main__':\n"
     ]
    },
    {
     "data": {
      "image/png": "[encoded data removed]",
      "text/plain": [
       "<Figure size 1080x216 with 4 Axes>"
      ]
     },
     "metadata": {},
     "output_type": "display_data"
    }
   ],
   "source": [
    "import matplotlib.pyplot as plt\n",
    "import random\n",
    "\n",
    "agent_id = 0\n",
    "\n",
    "def show_sample_batch(sample_batch, agent_id):\n",
    "    \"\"\"visualize the trajectory for a batch of samples with a randon agent\"\"\"\n",
    "    inp, out = sample_batch\n",
    "    batch_sz = inp.size(0)\n",
    "    agent_sz = inp.size(1)\n",
    "    \n",
    "    fig, axs = plt.subplots(1,batch_sz, figsize=(15, 3), facecolor='w', edgecolor='k')\n",
    "    fig.subplots_adjust(hspace = .5, wspace=.001)\n",
    "    axs = axs.ravel()   \n",
    "    for i in range(batch_sz):\n",
    "        axs[i].xaxis.set_ticks([])\n",
    "        axs[i].yaxis.set_ticks([])\n",
    "        \n",
    "        # first two feature dimensions are (x,y) positions\n",
    "        axs[i].scatter(inp[i, agent_id,:,0], inp[i, agent_id,:,1])\n",
    "        axs[i].scatter(out[i, agent_id,:,0], out[i, agent_id,:,1])\n",
    "\n",
    "        \n",
    "for i_batch, sample_batch in enumerate(train_loader):\n",
    "    inp, out = sample_batch\n",
    "    \"\"\"TODO:\n",
    "      Deep learning model\n",
    "      training routine\n",
    "    \"\"\"\n",
    "    show_sample_batch(sample_batch, agent_id)\n",
    "    break"
   ]
  }
 ],
 "metadata": {
  "kernelspec": {
   "display_name": "Python 3",
   "language": "python",
   "name": "python3"
  },
  "language_info": {
   "codemirror_mode": {
    "name": "ipython",
    "version": 3
   },
   "file_extension": ".py",
   "mimetype": "text/x-python",
   "name": "python",
   "nbconvert_exporter": "python",
   "pygments_lexer": "ipython3",
   "version": "3.8.5"
  }
 },
 "nbformat": 4,
 "nbformat_minor": 4
}
